{
 "cells": [
  {
   "cell_type": "markdown",
   "metadata": {},
   "source": [
    "# Week 4. Case 2\n",
    "Cognitive Systems for Health Technology Applications\n"
   ]
  },
  {
   "cell_type": "markdown",
   "metadata": {},
   "source": []
  },
  {
   "cell_type": "markdown",
   "metadata": {},
   "source": [
    "## Import libraries"
   ]
  },
  {
   "cell_type": "code",
   "execution_count": 21,
   "metadata": {},
   "outputs": [],
   "source": [
    "import numpy as np\n",
    "import matplotlib.pyplot as plt\n",
    "import keras\n",
    "from keras import layers\n",
    "from keras import models\n",
    "\n",
    "%matplotlib inline"
   ]
  },
  {
   "cell_type": "markdown",
   "metadata": {},
   "source": [
    "## Building network"
   ]
  },
  {
   "cell_type": "code",
   "execution_count": 22,
   "metadata": {},
   "outputs": [
    {
     "name": "stdout",
     "output_type": "stream",
     "text": [
      "_________________________________________________________________\n",
      "Layer (type)                 Output Shape              Param #   \n",
      "=================================================================\n",
      "conv2d_14 (Conv2D)           (None, 148, 148, 32)      896       \n",
      "_________________________________________________________________\n",
      "max_pooling2d_14 (MaxPooling (None, 74, 74, 32)        0         \n",
      "_________________________________________________________________\n",
      "conv2d_15 (Conv2D)           (None, 72, 72, 32)        9248      \n",
      "_________________________________________________________________\n",
      "max_pooling2d_15 (MaxPooling (None, 36, 36, 32)        0         \n",
      "_________________________________________________________________\n",
      "conv2d_16 (Conv2D)           (None, 34, 34, 32)        9248      \n",
      "_________________________________________________________________\n",
      "max_pooling2d_16 (MaxPooling (None, 17, 17, 32)        0         \n",
      "_________________________________________________________________\n",
      "flatten_7 (Flatten)          (None, 9248)              0         \n",
      "_________________________________________________________________\n",
      "dense_25 (Dense)             (None, 512)               4735488   \n",
      "_________________________________________________________________\n",
      "dropout_13 (Dropout)         (None, 512)               0         \n",
      "_________________________________________________________________\n",
      "dense_26 (Dense)             (None, 256)               131328    \n",
      "_________________________________________________________________\n",
      "dropout_14 (Dropout)         (None, 256)               0         \n",
      "_________________________________________________________________\n",
      "dense_27 (Dense)             (None, 256)               65792     \n",
      "_________________________________________________________________\n",
      "dense_28 (Dense)             (None, 1)                 257       \n",
      "=================================================================\n",
      "Total params: 4,952,257\n",
      "Trainable params: 4,952,257\n",
      "Non-trainable params: 0\n",
      "_________________________________________________________________\n"
     ]
    }
   ],
   "source": [
    "model = models.Sequential()\n",
    "model.add(layers.Conv2D(32, (3, 3), activation='relu', input_shape=(150, 150, 3)))\n",
    "model.add(layers.MaxPooling2D((2, 2)))\n",
    "model.add(layers.Conv2D(32, (3, 3), activation='relu'))\n",
    "model.add(layers.MaxPooling2D((2, 2)))\n",
    "model.add(layers.Conv2D(32, (3, 3), activation='relu'))\n",
    "model.add(layers.MaxPooling2D((2, 2)))\n",
    "model.add(layers.Flatten())\n",
    "model.add(layers.Dense(512, activation='relu'))\n",
    "model.add(layers.Dropout(0.3))\n",
    "model.add(layers.Dense(256, activation='relu'))\n",
    "model.add(layers.Dropout(0.3))\n",
    "model.add(layers.Dense(256, activation='relu'))\n",
    "model.add(layers.Dense(1, activation='sigmoid'))\n",
    "\n",
    "model.summary()"
   ]
  },
  {
   "cell_type": "code",
   "execution_count": 23,
   "metadata": {},
   "outputs": [],
   "source": [
    "from keras import optimizers\n",
    "\n",
    "\n",
    "model.compile(loss='binary_crossentropy',\n",
    "              optimizer=optimizers.Adadelta(),\n",
    "              metrics=['acc'])"
   ]
  },
  {
   "cell_type": "markdown",
   "metadata": {},
   "source": [
    "## Data preprocessing"
   ]
  },
  {
   "cell_type": "code",
   "execution_count": 24,
   "metadata": {},
   "outputs": [
    {
     "name": "stdout",
     "output_type": "stream",
     "text": [
      "Found 1031 images belonging to 2 classes.\n",
      "Found 516 images belonging to 2 classes.\n"
     ]
    }
   ],
   "source": [
    "from keras.preprocessing.image import ImageDataGenerator\n",
    "\n",
    "train_dir = \"./dataset2/train\"\n",
    "validation_dir = \"./dataset2/validation\"\n",
    "\n",
    "# All images will be rescaled by 1./255\n",
    "train_datagen = ImageDataGenerator(rescale=1./255)\n",
    "test_datagen = ImageDataGenerator(rescale=1./255)\n",
    "\n",
    "train_generator = train_datagen.flow_from_directory(\n",
    "    # This is the target directory\n",
    "    train_dir,\n",
    "    # All images will be resized to 150x150\n",
    "    target_size=(150, 150),\n",
    "\n",
    "    # We read images in batches\n",
    "    batch_size=20,\n",
    "    \n",
    "    # Since we use binary_crossentropy loss, we need binary labels\n",
    "    class_mode='binary')\n",
    "\n",
    "validation_generator = test_datagen.flow_from_directory(\n",
    "        validation_dir,\n",
    "        target_size=(150, 150),\n",
    "        batch_size=20,\n",
    "        class_mode='binary')"
   ]
  },
  {
   "cell_type": "code",
   "execution_count": 25,
   "metadata": {},
   "outputs": [
    {
     "name": "stdout",
     "output_type": "stream",
     "text": [
      "data batch shape: (20, 150, 150, 3)\n",
      "labels batch shape: (20,)\n",
      "data batch shape: (20, 150, 150, 3)\n",
      "labels batch shape: (20,)\n",
      "data batch shape: (20, 150, 150, 3)\n",
      "labels batch shape: (20,)\n",
      "data batch shape: (20, 150, 150, 3)\n",
      "labels batch shape: (20,)\n",
      "data batch shape: (20, 150, 150, 3)\n",
      "labels batch shape: (20,)\n",
      "data batch shape: (20, 150, 150, 3)\n",
      "labels batch shape: (20,)\n"
     ]
    }
   ],
   "source": [
    "# Testing that train generator works\n",
    "i = 0\n",
    "for data_batch, labels_batch in train_generator:\n",
    "    print('data batch shape:', data_batch.shape)\n",
    "    print('labels batch shape:', labels_batch.shape)\n",
    "    i = i + 1\n",
    "    if i > 5:\n",
    "        break"
   ]
  },
  {
   "cell_type": "code",
   "execution_count": 26,
   "metadata": {},
   "outputs": [
    {
     "data": {
      "text/plain": [
       "array([0., 0., 0., 1., 0., 1., 1., 1., 0., 0., 0., 1., 1., 0., 0., 0., 1.,\n",
       "       0., 1., 1.], dtype=float32)"
      ]
     },
     "execution_count": 26,
     "metadata": {},
     "output_type": "execute_result"
    }
   ],
   "source": [
    "# Check the last labels batch\n",
    "labels_batch"
   ]
  },
  {
   "cell_type": "markdown",
   "metadata": {},
   "source": [
    "## Modeling"
   ]
  },
  {
   "cell_type": "code",
   "execution_count": 27,
   "metadata": {
    "scrolled": true
   },
   "outputs": [
    {
     "name": "stdout",
     "output_type": "stream",
     "text": [
      "Epoch 1/50\n",
      "18/18 [==============================] - 123s 7s/step - loss: 0.5808 - acc: 0.6833 - val_loss: 0.6739 - val_acc: 0.7167\n",
      "Epoch 2/50\n",
      "18/18 [==============================] - 70s 4s/step - loss: 0.6526 - acc: 0.7028 - val_loss: 0.6284 - val_acc: 0.6966\n",
      "Epoch 3/50\n",
      "18/18 [==============================] - 80s 4s/step - loss: 0.5790 - acc: 0.7160 - val_loss: 0.5168 - val_acc: 0.7107\n",
      "Epoch 4/50\n",
      "18/18 [==============================] - 85s 5s/step - loss: 0.5793 - acc: 0.6944 - val_loss: 0.6027 - val_acc: 0.7222\n",
      "Epoch 5/50\n",
      "18/18 [==============================] - 72s 4s/step - loss: 0.5149 - acc: 0.7139 - val_loss: 0.4938 - val_acc: 0.7331\n",
      "Epoch 6/50\n",
      "18/18 [==============================] - 65s 4s/step - loss: 0.5080 - acc: 0.7299 - val_loss: 0.5831 - val_acc: 0.6994\n",
      "Epoch 7/50\n",
      "18/18 [==============================] - 69s 4s/step - loss: 0.5064 - acc: 0.7444 - val_loss: 0.4868 - val_acc: 0.7306\n",
      "Epoch 8/50\n",
      "18/18 [==============================] - 68s 4s/step - loss: 0.5465 - acc: 0.7250 - val_loss: 0.4468 - val_acc: 0.7949\n",
      "Epoch 9/50\n",
      "18/18 [==============================] - 63s 3s/step - loss: 0.5341 - acc: 0.7000 - val_loss: 0.5131 - val_acc: 0.7528\n",
      "Epoch 10/50\n",
      "18/18 [==============================] - 65s 4s/step - loss: 0.4696 - acc: 0.7500 - val_loss: 0.4582 - val_acc: 0.7694\n",
      "Epoch 11/50\n",
      "18/18 [==============================] - 73s 4s/step - loss: 0.4556 - acc: 0.7833 - val_loss: 0.4405 - val_acc: 0.7753\n",
      "Epoch 12/50\n",
      "18/18 [==============================] - 70s 4s/step - loss: 0.4960 - acc: 0.7691 - val_loss: 0.4594 - val_acc: 0.7556\n",
      "Epoch 13/50\n",
      "18/18 [==============================] - 65s 4s/step - loss: 0.4600 - acc: 0.8028 - val_loss: 0.4762 - val_acc: 0.7556\n",
      "Epoch 14/50\n",
      "18/18 [==============================] - 72s 4s/step - loss: 0.4881 - acc: 0.7556 - val_loss: 0.4637 - val_acc: 0.7750\n",
      "Epoch 15/50\n",
      "18/18 [==============================] - 61s 3s/step - loss: 0.4680 - acc: 0.7939 - val_loss: 0.4449 - val_acc: 0.7669\n",
      "Epoch 16/50\n",
      "18/18 [==============================] - 64s 4s/step - loss: 0.5058 - acc: 0.7417 - val_loss: 0.4276 - val_acc: 0.7753\n",
      "Epoch 17/50\n",
      "18/18 [==============================] - 67s 4s/step - loss: 0.3893 - acc: 0.8232 - val_loss: 0.4160 - val_acc: 0.7889\n",
      "Epoch 18/50\n",
      "18/18 [==============================] - 62s 3s/step - loss: 0.4508 - acc: 0.7917 - val_loss: 0.4934 - val_acc: 0.7697\n",
      "Epoch 19/50\n",
      "18/18 [==============================] - 63s 3s/step - loss: 0.4545 - acc: 0.7833 - val_loss: 0.4314 - val_acc: 0.7781\n",
      "Epoch 20/50\n",
      "18/18 [==============================] - 62s 3s/step - loss: 0.4156 - acc: 0.7821 - val_loss: 0.5048 - val_acc: 0.7472\n",
      "Epoch 21/50\n",
      "18/18 [==============================] - 63s 4s/step - loss: 0.4138 - acc: 0.8000 - val_loss: 0.4170 - val_acc: 0.8118\n",
      "Epoch 22/50\n",
      "18/18 [==============================] - 68s 4s/step - loss: 0.4065 - acc: 0.8194 - val_loss: 0.6011 - val_acc: 0.6601\n",
      "Epoch 23/50\n",
      "18/18 [==============================] - 69s 4s/step - loss: 0.4420 - acc: 0.7843 - val_loss: 0.4421 - val_acc: 0.7833\n",
      "Epoch 24/50\n",
      "18/18 [==============================] - 65s 4s/step - loss: 0.4355 - acc: 0.8083 - val_loss: 0.4797 - val_acc: 0.7809\n",
      "Epoch 25/50\n",
      "18/18 [==============================] - 68s 4s/step - loss: 0.4082 - acc: 0.8028 - val_loss: 0.4756 - val_acc: 0.7893\n",
      "Epoch 26/50\n",
      "18/18 [==============================] - 65s 4s/step - loss: 0.3955 - acc: 0.7942 - val_loss: 0.4536 - val_acc: 0.7949\n",
      "Epoch 27/50\n",
      "18/18 [==============================] - 67s 4s/step - loss: 0.3793 - acc: 0.8167 - val_loss: 0.4848 - val_acc: 0.7722\n",
      "Epoch 28/50\n",
      "18/18 [==============================] - 67s 4s/step - loss: 0.4202 - acc: 0.8000 - val_loss: 0.4709 - val_acc: 0.7584\n",
      "Epoch 29/50\n",
      "18/18 [==============================] - 65s 4s/step - loss: 0.4382 - acc: 0.8031 - val_loss: 0.4359 - val_acc: 0.7978\n",
      "Epoch 30/50\n",
      "18/18 [==============================] - 61s 3s/step - loss: 0.3880 - acc: 0.8333 - val_loss: 0.4610 - val_acc: 0.7861\n",
      "Epoch 31/50\n",
      "18/18 [==============================] - 61s 3s/step - loss: 0.3953 - acc: 0.8167 - val_loss: 0.4798 - val_acc: 0.7556\n",
      "Epoch 32/50\n",
      "18/18 [==============================] - 58s 3s/step - loss: 0.3769 - acc: 0.8226 - val_loss: 0.4305 - val_acc: 0.7921\n",
      "Epoch 33/50\n",
      "18/18 [==============================] - 58s 3s/step - loss: 0.3769 - acc: 0.8222 - val_loss: 0.4452 - val_acc: 0.7972\n",
      "Epoch 34/50\n",
      "18/18 [==============================] - 63s 3s/step - loss: 0.4277 - acc: 0.7972 - val_loss: 0.4441 - val_acc: 0.7612\n",
      "Epoch 35/50\n",
      "18/18 [==============================] - 60s 3s/step - loss: 0.3806 - acc: 0.8065 - val_loss: 0.5052 - val_acc: 0.7528\n",
      "Epoch 36/50\n",
      "18/18 [==============================] - 63s 3s/step - loss: 0.3583 - acc: 0.8222 - val_loss: 0.5407 - val_acc: 0.6917\n",
      "Epoch 37/50\n",
      "18/18 [==============================] - 62s 3s/step - loss: 0.3648 - acc: 0.8278 - val_loss: 0.4821 - val_acc: 0.7837\n",
      "Epoch 38/50\n",
      "18/18 [==============================] - 58s 3s/step - loss: 0.4218 - acc: 0.8093 - val_loss: 0.4489 - val_acc: 0.7725\n",
      "Epoch 39/50\n",
      "18/18 [==============================] - 58s 3s/step - loss: 0.3655 - acc: 0.8417 - val_loss: 0.4506 - val_acc: 0.7865\n",
      "Epoch 40/50\n",
      "18/18 [==============================] - 60s 3s/step - loss: 0.3567 - acc: 0.8250 - val_loss: 0.4756 - val_acc: 0.7583\n",
      "Epoch 41/50\n",
      "18/18 [==============================] - 59s 3s/step - loss: 0.3534 - acc: 0.8532 - val_loss: 0.5330 - val_acc: 0.7612\n",
      "Epoch 42/50\n",
      "18/18 [==============================] - 58s 3s/step - loss: 0.3831 - acc: 0.7972 - val_loss: 0.4061 - val_acc: 0.7978\n",
      "Epoch 43/50\n",
      "18/18 [==============================] - 59s 3s/step - loss: 0.3217 - acc: 0.8671 - val_loss: 0.4501 - val_acc: 0.7972\n",
      "Epoch 44/50\n",
      "18/18 [==============================] - 59s 3s/step - loss: 0.3266 - acc: 0.8639 - val_loss: 0.5173 - val_acc: 0.7360\n",
      "Epoch 45/50\n",
      "18/18 [==============================] - 60s 3s/step - loss: 0.3453 - acc: 0.8472 - val_loss: 0.4966 - val_acc: 0.7809\n",
      "Epoch 46/50\n",
      "18/18 [==============================] - 58s 3s/step - loss: 0.3795 - acc: 0.8239 - val_loss: 0.4657 - val_acc: 0.7861\n",
      "Epoch 47/50\n",
      "18/18 [==============================] - 61s 3s/step - loss: 0.3769 - acc: 0.8306 - val_loss: 0.4650 - val_acc: 0.7753\n",
      "Epoch 48/50\n",
      "18/18 [==============================] - 59s 3s/step - loss: 0.2980 - acc: 0.8722 - val_loss: 0.4889 - val_acc: 0.7978\n",
      "Epoch 49/50\n",
      "18/18 [==============================] - 59s 3s/step - loss: 0.3475 - acc: 0.8192 - val_loss: 0.4975 - val_acc: 0.7472\n",
      "Epoch 50/50\n",
      "18/18 [==============================] - 60s 3s/step - loss: 0.3002 - acc: 0.8667 - val_loss: 0.5001 - val_acc: 0.7669\n"
     ]
    }
   ],
   "source": [
    "\n",
    "\n",
    "history = model.fit_generator(\n",
    "      train_generator,\n",
    "      steps_per_epoch = 18,\n",
    "      verbose = 1,\n",
    "      epochs = 50,\n",
    "      validation_data = validation_generator,\n",
    "      validation_steps = 18)\n",
    "\n",
    "# Save the model\n",
    "model.save('case_2_run_5.h5')"
   ]
  },
  {
   "cell_type": "markdown",
   "metadata": {},
   "source": [
    "First attempt 30 epochs with base model, accuracy and loss were oscillating wildly.\n",
    "\n",
    "Second attempt 30 epochs with increased learning rate, oscillation is still heavy\n",
    "\n",
    "Epochs 30, Increasing steps per epoch to 20, batch size to 20, validation steps to 20 resulted in a bit of overfitting.\n",
    "\n",
    "Tweaking model, introducing dropout layers, increasing epochs, changed optimizer to adamdelta\n",
    "\n",
    "Epochs over 30 seem introduce overfitting to this model."
   ]
  },
  {
   "cell_type": "markdown",
   "metadata": {},
   "source": [
    "## Results"
   ]
  },
  {
   "cell_type": "code",
   "execution_count": 28,
   "metadata": {},
   "outputs": [
    {
     "data": {
      "image/png": "[encoded data removed]",
      "text/plain": [
       "<Figure size 432x288 with 1 Axes>"
      ]
     },
     "metadata": {
      "needs_background": "light"
     },
     "output_type": "display_data"
    },
    {
     "data": {
      "image/png": "[encoded data removed]",
      "text/plain": [
       "<Figure size 432x288 with 1 Axes>"
      ]
     },
     "metadata": {
      "needs_background": "light"
     },
     "output_type": "display_data"
    }
   ],
   "source": [
    "acc = history.history['acc']\n",
    "val_acc = history.history['val_acc']\n",
    "loss = history.history['loss']\n",
    "val_loss = history.history['val_loss']\n",
    "\n",
    "epochs = range(len(acc))\n",
    "\n",
    "plt.plot(epochs, acc, 'b',c='r', label='Training acc')\n",
    "plt.plot(epochs, val_acc, 'b', label='Validation acc')\n",
    "plt.title('Training and validation accuracy')\n",
    "plt.legend()\n",
    "\n",
    "plt.figure()\n",
    "\n",
    "plt.plot(epochs, loss, 'b',c='r', label='Training loss')\n",
    "plt.plot(epochs, val_loss, 'b', label='Validation loss')\n",
    "plt.title('Training and validation loss')\n",
    "plt.legend()\n",
    "\n",
    "plt.show()"
   ]
  },
  {
   "cell_type": "code",
   "execution_count": null,
   "metadata": {},
   "outputs": [],
   "source": []
  }
 ],
 "metadata": {
  "kernelspec": {
   "display_name": "Python 3",
   "language": "python",
   "name": "python3"
  },
  "language_info": {
   "codemirror_mode": {
    "name": "ipython",
    "version": 3
   },
   "file_extension": ".py",
   "mimetype": "text/x-python",
   "name": "python",
   "nbconvert_exporter": "python",
   "pygments_lexer": "ipython3",
   "version": "3.6.7"
  }
 },
 "nbformat": 4,
 "nbformat_minor": 2
}
