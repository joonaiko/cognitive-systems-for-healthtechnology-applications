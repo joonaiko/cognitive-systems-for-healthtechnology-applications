{
 "cells": [
  {
   "cell_type": "code",
   "execution_count": 76,
   "metadata": {},
   "outputs": [],
   "source": [
    "from __future__ import absolute_import, division, print_function\n",
    "\n",
    "import os\n",
    "import numpy as np\n",
    "import pandas as pd\n",
    "import matplotlib.pyplot as plt\n",
    "\n",
    "from keras.preprocessing.text import Tokenizer\n",
    "from keras.preprocessing.sequence import pad_sequences\n",
    "from keras.utils import to_categorical\n",
    "from keras.models import Sequential\n",
    "from keras.layers import Embedding, Flatten, Dense, GRU, LSTM\n",
    "from keras.layers import Conv1D, MaxPooling1D, GlobalMaxPooling1D\n"
   ]
  },
  {
   "cell_type": "code",
   "execution_count": 11,
   "metadata": {},
   "outputs": [
    {
     "data": {
      "text/html": [
       "<div>\n",
       "<style scoped>\n",
       "    .dataframe tbody tr th:only-of-type {\n",
       "        vertical-align: middle;\n",
       "    }\n",
       "\n",
       "    .dataframe tbody tr th {\n",
       "        vertical-align: top;\n",
       "    }\n",
       "\n",
       "    .dataframe thead th {\n",
       "        text-align: right;\n",
       "    }\n",
       "</style>\n",
       "<table border=\"1\" class=\"dataframe\">\n",
       "  <thead>\n",
       "    <tr style=\"text-align: right;\">\n",
       "      <th></th>\n",
       "      <th>uniqueID</th>\n",
       "      <th>drugName</th>\n",
       "      <th>condition</th>\n",
       "      <th>review</th>\n",
       "      <th>rating</th>\n",
       "      <th>date</th>\n",
       "      <th>usefulCount</th>\n",
       "    </tr>\n",
       "  </thead>\n",
       "  <tbody>\n",
       "    <tr>\n",
       "      <th>0</th>\n",
       "      <td>206461</td>\n",
       "      <td>Valsartan</td>\n",
       "      <td>Left Ventricular Dysfunction</td>\n",
       "      <td>\"It has no side effect, I take it in combinati...</td>\n",
       "      <td>9</td>\n",
       "      <td>20-May-12</td>\n",
       "      <td>27</td>\n",
       "    </tr>\n",
       "    <tr>\n",
       "      <th>1</th>\n",
       "      <td>95260</td>\n",
       "      <td>Guanfacine</td>\n",
       "      <td>ADHD</td>\n",
       "      <td>\"My son is halfway through his fourth week of ...</td>\n",
       "      <td>8</td>\n",
       "      <td>27-Apr-10</td>\n",
       "      <td>192</td>\n",
       "    </tr>\n",
       "    <tr>\n",
       "      <th>2</th>\n",
       "      <td>92703</td>\n",
       "      <td>Lybrel</td>\n",
       "      <td>Birth Control</td>\n",
       "      <td>\"I used to take another oral contraceptive, wh...</td>\n",
       "      <td>5</td>\n",
       "      <td>14-Dec-09</td>\n",
       "      <td>17</td>\n",
       "    </tr>\n",
       "    <tr>\n",
       "      <th>3</th>\n",
       "      <td>138000</td>\n",
       "      <td>Ortho Evra</td>\n",
       "      <td>Birth Control</td>\n",
       "      <td>\"This is my first time using any form of birth...</td>\n",
       "      <td>8</td>\n",
       "      <td>3-Nov-15</td>\n",
       "      <td>10</td>\n",
       "    </tr>\n",
       "    <tr>\n",
       "      <th>4</th>\n",
       "      <td>35696</td>\n",
       "      <td>Buprenorphine / naloxone</td>\n",
       "      <td>Opiate Dependence</td>\n",
       "      <td>\"Suboxone has completely turned my life around...</td>\n",
       "      <td>9</td>\n",
       "      <td>27-Nov-16</td>\n",
       "      <td>37</td>\n",
       "    </tr>\n",
       "  </tbody>\n",
       "</table>\n",
       "</div>"
      ],
      "text/plain": [
       "   uniqueID                  drugName                     condition  \\\n",
       "0    206461                 Valsartan  Left Ventricular Dysfunction   \n",
       "1     95260                Guanfacine                          ADHD   \n",
       "2     92703                    Lybrel                 Birth Control   \n",
       "3    138000                Ortho Evra                 Birth Control   \n",
       "4     35696  Buprenorphine / naloxone             Opiate Dependence   \n",
       "\n",
       "                                              review  rating       date  \\\n",
       "0  \"It has no side effect, I take it in combinati...       9  20-May-12   \n",
       "1  \"My son is halfway through his fourth week of ...       8  27-Apr-10   \n",
       "2  \"I used to take another oral contraceptive, wh...       5  14-Dec-09   \n",
       "3  \"This is my first time using any form of birth...       8   3-Nov-15   \n",
       "4  \"Suboxone has completely turned my life around...       9  27-Nov-16   \n",
       "\n",
       "   usefulCount  \n",
       "0           27  \n",
       "1          192  \n",
       "2           17  \n",
       "3           10  \n",
       "4           37  "
      ]
     },
     "execution_count": 11,
     "metadata": {},
     "output_type": "execute_result"
    }
   ],
   "source": [
    "train = pd.read_csv('drugsComTrain_raw.csv')\n",
    "test = pd.read_csv('drugsComTest_raw.csv')\n",
    "\n",
    "train.head(5)"
   ]
  },
  {
   "cell_type": "code",
   "execution_count": 4,
   "metadata": {},
   "outputs": [
    {
     "data": {
      "text/html": [
       "<div>\n",
       "<style scoped>\n",
       "    .dataframe tbody tr th:only-of-type {\n",
       "        vertical-align: middle;\n",
       "    }\n",
       "\n",
       "    .dataframe tbody tr th {\n",
       "        vertical-align: top;\n",
       "    }\n",
       "\n",
       "    .dataframe thead th {\n",
       "        text-align: right;\n",
       "    }\n",
       "</style>\n",
       "<table border=\"1\" class=\"dataframe\">\n",
       "  <thead>\n",
       "    <tr style=\"text-align: right;\">\n",
       "      <th></th>\n",
       "      <th>uniqueID</th>\n",
       "      <th>drugName</th>\n",
       "      <th>condition</th>\n",
       "      <th>review</th>\n",
       "      <th>rating</th>\n",
       "      <th>date</th>\n",
       "      <th>usefulCount</th>\n",
       "      <th>label</th>\n",
       "    </tr>\n",
       "  </thead>\n",
       "  <tbody>\n",
       "    <tr>\n",
       "      <th>0</th>\n",
       "      <td>206461</td>\n",
       "      <td>Valsartan</td>\n",
       "      <td>Left Ventricular Dysfunction</td>\n",
       "      <td>\"It has no side effect, I take it in combinati...</td>\n",
       "      <td>9</td>\n",
       "      <td>20-May-12</td>\n",
       "      <td>27</td>\n",
       "      <td>1</td>\n",
       "    </tr>\n",
       "    <tr>\n",
       "      <th>1</th>\n",
       "      <td>95260</td>\n",
       "      <td>Guanfacine</td>\n",
       "      <td>ADHD</td>\n",
       "      <td>\"My son is halfway through his fourth week of ...</td>\n",
       "      <td>8</td>\n",
       "      <td>27-Apr-10</td>\n",
       "      <td>192</td>\n",
       "      <td>1</td>\n",
       "    </tr>\n",
       "    <tr>\n",
       "      <th>2</th>\n",
       "      <td>92703</td>\n",
       "      <td>Lybrel</td>\n",
       "      <td>Birth Control</td>\n",
       "      <td>\"I used to take another oral contraceptive, wh...</td>\n",
       "      <td>5</td>\n",
       "      <td>14-Dec-09</td>\n",
       "      <td>17</td>\n",
       "      <td>0</td>\n",
       "    </tr>\n",
       "    <tr>\n",
       "      <th>3</th>\n",
       "      <td>138000</td>\n",
       "      <td>Ortho Evra</td>\n",
       "      <td>Birth Control</td>\n",
       "      <td>\"This is my first time using any form of birth...</td>\n",
       "      <td>8</td>\n",
       "      <td>3-Nov-15</td>\n",
       "      <td>10</td>\n",
       "      <td>1</td>\n",
       "    </tr>\n",
       "    <tr>\n",
       "      <th>4</th>\n",
       "      <td>35696</td>\n",
       "      <td>Buprenorphine / naloxone</td>\n",
       "      <td>Opiate Dependence</td>\n",
       "      <td>\"Suboxone has completely turned my life around...</td>\n",
       "      <td>9</td>\n",
       "      <td>27-Nov-16</td>\n",
       "      <td>37</td>\n",
       "      <td>1</td>\n",
       "    </tr>\n",
       "  </tbody>\n",
       "</table>\n",
       "</div>"
      ],
      "text/plain": [
       "   uniqueID                  drugName                     condition  \\\n",
       "0    206461                 Valsartan  Left Ventricular Dysfunction   \n",
       "1     95260                Guanfacine                          ADHD   \n",
       "2     92703                    Lybrel                 Birth Control   \n",
       "3    138000                Ortho Evra                 Birth Control   \n",
       "4     35696  Buprenorphine / naloxone             Opiate Dependence   \n",
       "\n",
       "                                              review  rating       date  \\\n",
       "0  \"It has no side effect, I take it in combinati...       9  20-May-12   \n",
       "1  \"My son is halfway through his fourth week of ...       8  27-Apr-10   \n",
       "2  \"I used to take another oral contraceptive, wh...       5  14-Dec-09   \n",
       "3  \"This is my first time using any form of birth...       8   3-Nov-15   \n",
       "4  \"Suboxone has completely turned my life around...       9  27-Nov-16   \n",
       "\n",
       "   usefulCount  label  \n",
       "0           27      1  \n",
       "1          192      1  \n",
       "2           17      0  \n",
       "3           10      1  \n",
       "4           37      1  "
      ]
     },
     "execution_count": 4,
     "metadata": {},
     "output_type": "execute_result"
    }
   ],
   "source": [
    "# Create labels based on the original article: Grässer et al. (2018)\n",
    "r = data['rating']\n",
    "labels = -1*(r <= 4) + 1*(r >= 7)\n",
    "# Add the label column to the data\n",
    "data['label'] = labels\n",
    "# Check the new data\n",
    "data.head()"
   ]
  },
  {
   "cell_type": "code",
   "execution_count": 6,
   "metadata": {},
   "outputs": [
    {
     "data": {
      "image/png": "[encoded data removed]",
      "text/plain": [
       "<Figure size 432x288 with 1 Axes>"
      ]
     },
     "metadata": {
      "needs_background": "light"
     },
     "output_type": "display_data"
    }
   ],
   "source": [
    "\n",
    "data.plot(x = 'rating', y = 'label', kind = 'scatter')\n",
    "plt.show()"
   ]
  },
  {
   "cell_type": "code",
   "execution_count": 60,
   "metadata": {},
   "outputs": [],
   "source": [
    "# Read a part of the reviews and create training sequences (x_train)\n",
    "samples = data['review'].iloc[:50000]\n",
    "tokenizer = Tokenizer(num_words = 1000)\n",
    "tokenizer.fit_on_texts(samples)\n",
    "sequences = tokenizer.texts_to_sequences(samples)\n",
    "x_train = pad_sequences(sequences, maxlen = 500)"
   ]
  },
  {
   "cell_type": "code",
   "execution_count": 64,
   "metadata": {},
   "outputs": [],
   "source": [
    "# Convert the labels to one_hot_category values\n",
    "one_hot_labels = to_categorical(labels[:50000], num_classes = 3)"
   ]
  },
  {
   "cell_type": "code",
   "execution_count": 27,
   "metadata": {},
   "outputs": [],
   "source": [
    "# We use the same plotting commands several times, so create a function for that purpose\n",
    "def plot_history(history):\n",
    "    \n",
    "    f, ax = plt.subplots(1, 2, figsize = (16, 7))\n",
    "    \n",
    "    acc = history.history['acc']\n",
    "    val_acc = history.history['val_acc']\n",
    "    loss = history.history['loss']\n",
    "    val_loss = history.history['val_loss']\n",
    "\n",
    "    epochs = range(1, len(acc) + 1)\n",
    "\n",
    "    plt.sca(ax[0])\n",
    "    plt.plot(epochs, acc, 'bo', label='Training acc')\n",
    "    plt.plot(epochs, val_acc, 'b', label='Validation acc')\n",
    "    plt.title('Training and validation accuracy')\n",
    "    plt.legend()\n",
    "\n",
    "    plt.sca(ax[1])\n",
    "    plt.plot(epochs, loss, 'bo', label='Training loss')\n",
    "    plt.plot(epochs, val_loss, 'b', label='Validation loss')\n",
    "    plt.title('Training and validation loss')\n",
    "    plt.legend()\n",
    "\n",
    "    plt.show()"
   ]
  },
  {
   "cell_type": "markdown",
   "metadata": {},
   "source": [
    "# First test model"
   ]
  },
  {
   "cell_type": "code",
   "execution_count": 47,
   "metadata": {},
   "outputs": [
    {
     "name": "stdout",
     "output_type": "stream",
     "text": [
      "_________________________________________________________________\n",
      "Layer (type)                 Output Shape              Param #   \n",
      "=================================================================\n",
      "embedding_10 (Embedding)     (None, 500, 64)           64000     \n",
      "_________________________________________________________________\n",
      "flatten_3 (Flatten)          (None, 32000)             0         \n",
      "_________________________________________________________________\n",
      "dense_11 (Dense)             (None, 32)                1024032   \n",
      "_________________________________________________________________\n",
      "dense_12 (Dense)             (None, 3)                 99        \n",
      "=================================================================\n",
      "Total params: 1,088,131\n",
      "Trainable params: 1,088,131\n",
      "Non-trainable params: 0\n",
      "_________________________________________________________________\n"
     ]
    }
   ],
   "source": [
    "# First model: Embedding layer -> Flatten -> Dense classifier\n",
    "m0 = Sequential()\n",
    "m0.add(Embedding(1000, 64, input_length = 500)) # 1000 = num_words, 64 = Embedding layers, 500 = sequence length\n",
    "m0.add(Flatten())\n",
    "m0.add(Dense(32, activation = 'relu'))\n",
    "m0.add(Dense(3, activation = 'softmax'))\n",
    "m0.compile(optimizer = 'rmsprop', loss = 'categorical_crossentropy', metrics = ['acc'])\n",
    "m0.summary()"
   ]
  },
  {
   "cell_type": "code",
   "execution_count": 48,
   "metadata": {},
   "outputs": [
    {
     "name": "stdout",
     "output_type": "stream",
     "text": [
      "Train on 7500 samples, validate on 2500 samples\n",
      "Epoch 1/10\n",
      "7500/7500 [==============================] - 6s 849us/step - loss: 0.8394 - acc: 0.6577 - val_loss: 0.7804 - val_acc: 0.6564\n",
      "Epoch 2/10\n",
      "7500/7500 [==============================] - 6s 778us/step - loss: 0.6494 - acc: 0.7447 - val_loss: 0.6796 - val_acc: 0.7296\n",
      "Epoch 3/10\n",
      "7500/7500 [==============================] - 6s 744us/step - loss: 0.4956 - acc: 0.8099 - val_loss: 0.7661 - val_acc: 0.6792\n",
      "Epoch 4/10\n",
      "7500/7500 [==============================] - 6s 756us/step - loss: 0.3394 - acc: 0.8772 - val_loss: 0.8680 - val_acc: 0.7200\n",
      "Epoch 5/10\n",
      "7500/7500 [==============================] - 6s 784us/step - loss: 0.1945 - acc: 0.9405 - val_loss: 0.8714 - val_acc: 0.7044\n",
      "Epoch 6/10\n",
      "7500/7500 [==============================] - 6s 755us/step - loss: 0.1014 - acc: 0.9707 - val_loss: 1.1260 - val_acc: 0.7128\n",
      "Epoch 7/10\n",
      "7500/7500 [==============================] - 6s 759us/step - loss: 0.0505 - acc: 0.9865 - val_loss: 1.3231 - val_acc: 0.7036\n",
      "Epoch 8/10\n",
      "7500/7500 [==============================] - 6s 775us/step - loss: 0.0257 - acc: 0.9929 - val_loss: 1.6179 - val_acc: 0.6992\n",
      "Epoch 9/10\n",
      "7500/7500 [==============================] - 6s 778us/step - loss: 0.0145 - acc: 0.9959 - val_loss: 1.9031 - val_acc: 0.6936\n",
      "Epoch 10/10\n",
      "7500/7500 [==============================] - 6s 812us/step - loss: 0.0100 - acc: 0.9967 - val_loss: 2.0436 - val_acc: 0.6908\n"
     ]
    }
   ],
   "source": [
    "h0 = m0.fit(x_train, one_hot_labels, epochs = 10, batch_size = 32, verbose = 1, validation_split = 0.25)"
   ]
  },
  {
   "cell_type": "code",
   "execution_count": 49,
   "metadata": {},
   "outputs": [
    {
     "data": {
      "image/png": "[encoded data removed]",
      "text/plain": [
       "<Figure size 1152x504 with 2 Axes>"
      ]
     },
     "metadata": {
      "needs_background": "light"
     },
     "output_type": "display_data"
    }
   ],
   "source": [
    "plot_history(h0)"
   ]
  },
  {
   "cell_type": "markdown",
   "metadata": {},
   "source": [
    "# Trying stuff"
   ]
  },
  {
   "cell_type": "code",
   "execution_count": 51,
   "metadata": {},
   "outputs": [
    {
     "name": "stdout",
     "output_type": "stream",
     "text": [
      "_________________________________________________________________\n",
      "Layer (type)                 Output Shape              Param #   \n",
      "=================================================================\n",
      "embedding_12 (Embedding)     (None, 500, 32)           32000     \n",
      "_________________________________________________________________\n",
      "gru_10 (GRU)                 (None, 500, 12)           1620      \n",
      "_________________________________________________________________\n",
      "gru_11 (GRU)                 (None, 500, 12)           900       \n",
      "_________________________________________________________________\n",
      "gru_12 (GRU)                 (None, 12)                900       \n",
      "_________________________________________________________________\n",
      "dense_13 (Dense)             (None, 3)                 39        \n",
      "=================================================================\n",
      "Total params: 35,459\n",
      "Trainable params: 35,459\n",
      "Non-trainable params: 0\n",
      "_________________________________________________________________\n"
     ]
    }
   ],
   "source": [
    "m1 = Sequential()\n",
    "m1.add(Embedding(1000, 32, input_length = 500))\n",
    "m1.add(GRU(12, dropout = 0.2, recurrent_dropout = 0.2, return_sequences = True))\n",
    "m1.add(GRU(12, dropout = 0.2, recurrent_dropout = 0.2, return_sequences = True))\n",
    "m1.add(GRU(12, dropout = 0.2, recurrent_dropout = 0.2))\n",
    "m1.add(Dense(3, activation = 'softmax'))\n",
    "m1.compile(optimizer = 'rmsprop', loss = 'categorical_crossentropy', metrics = ['acc'])\n",
    "m1.summary()"
   ]
  },
  {
   "cell_type": "code",
   "execution_count": 52,
   "metadata": {},
   "outputs": [
    {
     "name": "stdout",
     "output_type": "stream",
     "text": [
      "Train on 7500 samples, validate on 2500 samples\n",
      "Epoch 1/10\n",
      "7500/7500 [==============================] - 108s 14ms/step - loss: 0.8398 - acc: 0.6603 - val_loss: 0.7865 - val_acc: 0.6664\n",
      "Epoch 2/10\n",
      "7500/7500 [==============================] - 105s 14ms/step - loss: 0.7413 - acc: 0.7048 - val_loss: 0.7550 - val_acc: 0.6908\n",
      "Epoch 3/10\n",
      "7500/7500 [==============================] - 107s 14ms/step - loss: 0.7007 - acc: 0.7237 - val_loss: 0.7356 - val_acc: 0.7004\n",
      "Epoch 4/10\n",
      "7500/7500 [==============================] - 107s 14ms/step - loss: 0.6821 - acc: 0.7363 - val_loss: 0.7220 - val_acc: 0.7096\n",
      "Epoch 5/10\n",
      "7500/7500 [==============================] - 107s 14ms/step - loss: 0.6696 - acc: 0.7401 - val_loss: 0.7153 - val_acc: 0.7104\n",
      "Epoch 6/10\n",
      "7500/7500 [==============================] - 107s 14ms/step - loss: 0.6526 - acc: 0.7512 - val_loss: 0.7171 - val_acc: 0.7136\n",
      "Epoch 7/10\n",
      "7500/7500 [==============================] - 107s 14ms/step - loss: 0.6355 - acc: 0.7549 - val_loss: 0.7108 - val_acc: 0.7188\n",
      "Epoch 8/10\n",
      "7500/7500 [==============================] - 108s 14ms/step - loss: 0.6247 - acc: 0.7624 - val_loss: 0.7228 - val_acc: 0.7208\n",
      "Epoch 9/10\n",
      "7500/7500 [==============================] - 109s 15ms/step - loss: 0.6143 - acc: 0.7657 - val_loss: 0.7141 - val_acc: 0.7160\n",
      "Epoch 10/10\n",
      "7500/7500 [==============================] - 113s 15ms/step - loss: 0.6042 - acc: 0.7712 - val_loss: 0.7167 - val_acc: 0.7204\n"
     ]
    }
   ],
   "source": [
    "h1 = m1.fit(x_train, one_hot_labels, epochs = 10, batch_size = 28, verbose = 1, validation_split = 0.25)"
   ]
  },
  {
   "cell_type": "code",
   "execution_count": 53,
   "metadata": {},
   "outputs": [
    {
     "data": {
      "image/png": "[encoded data removed]",
      "text/plain": [
       "<Figure size 1152x504 with 2 Axes>"
      ]
     },
     "metadata": {
      "needs_background": "light"
     },
     "output_type": "display_data"
    }
   ],
   "source": [
    "plot_history(h1)"
   ]
  },
  {
   "cell_type": "markdown",
   "metadata": {},
   "source": [
    "# Testing stufferinos #2\n",
    "\n",
    "dataset 50 000 reviews, runtime LONG, doesn't overfit, validadtion accuracy 78,6% and loss 0,572 this run."
   ]
  },
  {
   "cell_type": "code",
   "execution_count": 65,
   "metadata": {},
   "outputs": [
    {
     "name": "stdout",
     "output_type": "stream",
     "text": [
      "_________________________________________________________________\n",
      "Layer (type)                 Output Shape              Param #   \n",
      "=================================================================\n",
      "embedding_16 (Embedding)     (None, 500, 32)           32000     \n",
      "_________________________________________________________________\n",
      "gru_18 (GRU)                 (None, 500, 12)           1620      \n",
      "_________________________________________________________________\n",
      "gru_19 (GRU)                 (None, 500, 12)           900       \n",
      "_________________________________________________________________\n",
      "gru_20 (GRU)                 (None, 12)                900       \n",
      "_________________________________________________________________\n",
      "dense_16 (Dense)             (None, 3)                 39        \n",
      "=================================================================\n",
      "Total params: 35,459\n",
      "Trainable params: 35,459\n",
      "Non-trainable params: 0\n",
      "_________________________________________________________________\n"
     ]
    }
   ],
   "source": [
    "m2 = Sequential()\n",
    "m2.add(Embedding(1000, 32, input_length = 500))\n",
    "m2.add(GRU(12, dropout = 0.2, recurrent_dropout = 0.2, return_sequences = True))\n",
    "m2.add(GRU(12, dropout = 0.2, recurrent_dropout = 0.2, return_sequences = True))\n",
    "m2.add(GRU(12, dropout = 0.2, recurrent_dropout = 0.2))\n",
    "m2.add(Dense(3, activation = 'softmax'))\n",
    "m2.compile(optimizer = 'rmsprop', loss = 'categorical_crossentropy', metrics = ['acc'])\n",
    "m2.summary()"
   ]
  },
  {
   "cell_type": "code",
   "execution_count": 66,
   "metadata": {},
   "outputs": [
    {
     "name": "stdout",
     "output_type": "stream",
     "text": [
      "Train on 37500 samples, validate on 12500 samples\n",
      "Epoch 1/10\n",
      "37500/37500 [==============================] - 697s 19ms/step - loss: 0.7512 - acc: 0.7016 - val_loss: 0.6956 - val_acc: 0.7275\n",
      "Epoch 2/10\n",
      "37500/37500 [==============================] - 675s 18ms/step - loss: 0.6779 - acc: 0.7397 - val_loss: 0.6608 - val_acc: 0.7453\n",
      "Epoch 3/10\n",
      "37500/37500 [==============================] - 674s 18ms/step - loss: 0.6467 - acc: 0.7554 - val_loss: 0.6274 - val_acc: 0.7599\n",
      "Epoch 4/10\n",
      "37500/37500 [==============================] - 680s 18ms/step - loss: 0.6253 - acc: 0.7674 - val_loss: 0.6102 - val_acc: 0.7678\n",
      "Epoch 5/10\n",
      "37500/37500 [==============================] - 692s 18ms/step - loss: 0.6121 - acc: 0.7731 - val_loss: 0.6087 - val_acc: 0.7730\n",
      "Epoch 6/10\n",
      "37500/37500 [==============================] - 691s 18ms/step - loss: 0.5980 - acc: 0.7813 - val_loss: 0.5941 - val_acc: 0.7750\n",
      "Epoch 7/10\n",
      "37500/37500 [==============================] - 705s 19ms/step - loss: 0.5862 - acc: 0.7844 - val_loss: 0.5851 - val_acc: 0.7789\n",
      "Epoch 8/10\n",
      "37500/37500 [==============================] - 712s 19ms/step - loss: 0.5770 - acc: 0.7884 - val_loss: 0.5829 - val_acc: 0.7843\n",
      "Epoch 9/10\n",
      "37500/37500 [==============================] - 715s 19ms/step - loss: 0.5694 - acc: 0.7919 - val_loss: 0.5710 - val_acc: 0.7882\n",
      "Epoch 10/10\n",
      "37500/37500 [==============================] - 705s 19ms/step - loss: 0.5658 - acc: 0.7939 - val_loss: 0.5716 - val_acc: 0.7862\n"
     ]
    }
   ],
   "source": [
    "h2 = m2.fit(x_train, one_hot_labels, epochs = 10, batch_size = 22, verbose = 1, validation_split = 0.25)"
   ]
  },
  {
   "cell_type": "code",
   "execution_count": 67,
   "metadata": {},
   "outputs": [
    {
     "data": {
      "image/png": "[encoded data removed]",
      "text/plain": [
       "<Figure size 1152x504 with 2 Axes>"
      ]
     },
     "metadata": {
      "needs_background": "light"
     },
     "output_type": "display_data"
    }
   ],
   "source": [
    "plot_history(h2)"
   ]
  },
  {
   "cell_type": "markdown",
   "metadata": {},
   "source": [
    "Koitin tallentaa sekä modelin että sen weightit varmuuden vuoksi ettei sitä tarvitse uusiksi ajaa, validoitu tässä kohtaa nyt training + validation datan kokonaisuudella eli kaikilla 50 000 arvolla. Teoriassa voisi myös ajaa test datasetillä."
   ]
  },
  {
   "cell_type": "code",
   "execution_count": 69,
   "metadata": {},
   "outputs": [],
   "source": [
    "from keras.models import load_model\n",
    "m2.save('case_3_8.h5')"
   ]
  },
  {
   "cell_type": "code",
   "execution_count": 82,
   "metadata": {},
   "outputs": [
    {
     "name": "stdout",
     "output_type": "stream",
     "text": [
      "50000/50000 [==============================] - 105s 2ms/step\n",
      "Restored model, accuracy: 80.08%\n"
     ]
    }
   ],
   "source": [
    "# Save the weights\n",
    "m2.save_weights('case3_weights')\n",
    "\n",
    "# Restore the weights\n",
    "m3 = Sequential()\n",
    "m3.add(Embedding(1000, 32, input_length = 500))\n",
    "m3.add(GRU(12, dropout = 0.2, recurrent_dropout = 0.2, return_sequences = True))\n",
    "m3.add(GRU(12, dropout = 0.2, recurrent_dropout = 0.2, return_sequences = True))\n",
    "m3.add(GRU(12, dropout = 0.2, recurrent_dropout = 0.2))\n",
    "m3.add(Dense(3, activation = 'softmax'))\n",
    "m3.compile(optimizer = 'rmsprop', loss = 'categorical_crossentropy', metrics = ['acc'])\n",
    "m3.load_weights('case3_weights')\n",
    "\n",
    "loss,acc = m3.evaluate(x_train, one_hot_labels)\n",
    "print(\"Restored model, accuracy: {:5.2f}%\".format(100*acc))"
   ]
  },
  {
   "cell_type": "code",
   "execution_count": 88,
   "metadata": {},
   "outputs": [],
   "source": [
    "# Pickle allows for saving all the accuracies and losses both for validation and training data after every epoch\n",
    "# so we can make graph without running whole thing again\n",
    "\n",
    "import pickle\n",
    "with open('valuesForGraphs', 'wb') as f:\n",
    "    pickle.dump(h2.history, f)"
   ]
  },
  {
   "cell_type": "code",
   "execution_count": 89,
   "metadata": {},
   "outputs": [
    {
     "data": {
      "text/plain": [
       "{'val_loss': [0.6955774086761475,\n",
       "  0.6608470801496505,\n",
       "  0.6273753600025177,\n",
       "  0.610180664832592,\n",
       "  0.6087041994929314,\n",
       "  0.5941403232336044,\n",
       "  0.5850761218881607,\n",
       "  0.582947294242382,\n",
       "  0.5710386028003692,\n",
       "  0.5715621879124642],\n",
       " 'val_acc': [0.7275199988031388,\n",
       "  0.7452800000667572,\n",
       "  0.7599199997711181,\n",
       "  0.7678400000858306,\n",
       "  0.773040000424385,\n",
       "  0.774960000743866,\n",
       "  0.7788800004673004,\n",
       "  0.7843200004196167,\n",
       "  0.7881600007438659,\n",
       "  0.7862400013160705],\n",
       " 'loss': [0.7512035208590825,\n",
       "  0.6779229148117701,\n",
       "  0.6466745213135083,\n",
       "  0.6252887561996778,\n",
       "  0.6120953818233807,\n",
       "  0.5980305860582987,\n",
       "  0.5862437050477664,\n",
       "  0.5770344327775637,\n",
       "  0.569387019349734,\n",
       "  0.5657873747968674],\n",
       " 'acc': [0.7016266660992304,\n",
       "  0.7396533328310648,\n",
       "  0.7553866665363311,\n",
       "  0.7673866674804688,\n",
       "  0.7731200004053116,\n",
       "  0.7813066676870982,\n",
       "  0.7844266673008601,\n",
       "  0.7884000005499522,\n",
       "  0.7918933342885971,\n",
       "  0.79386666812102]}"
      ]
     },
     "execution_count": 89,
     "metadata": {},
     "output_type": "execute_result"
    }
   ],
   "source": [
    "h4 = pickle.load( open( \"valuesForGraphs\", \"rb\" ) )\n",
    "h4"
   ]
  },
  {
   "cell_type": "code",
   "execution_count": 86,
   "metadata": {},
   "outputs": [
    {
     "data": {
      "text/plain": [
       "{'val_loss': [0.6955774086761475,\n",
       "  0.6608470801496505,\n",
       "  0.6273753600025177,\n",
       "  0.610180664832592,\n",
       "  0.6087041994929314,\n",
       "  0.5941403232336044,\n",
       "  0.5850761218881607,\n",
       "  0.582947294242382,\n",
       "  0.5710386028003692,\n",
       "  0.5715621879124642],\n",
       " 'val_acc': [0.7275199988031388,\n",
       "  0.7452800000667572,\n",
       "  0.7599199997711181,\n",
       "  0.7678400000858306,\n",
       "  0.773040000424385,\n",
       "  0.774960000743866,\n",
       "  0.7788800004673004,\n",
       "  0.7843200004196167,\n",
       "  0.7881600007438659,\n",
       "  0.7862400013160705],\n",
       " 'loss': [0.7512035208590825,\n",
       "  0.6779229148117701,\n",
       "  0.6466745213135083,\n",
       "  0.6252887561996778,\n",
       "  0.6120953818233807,\n",
       "  0.5980305860582987,\n",
       "  0.5862437050477664,\n",
       "  0.5770344327775637,\n",
       "  0.569387019349734,\n",
       "  0.5657873747968674],\n",
       " 'acc': [0.7016266660992304,\n",
       "  0.7396533328310648,\n",
       "  0.7553866665363311,\n",
       "  0.7673866674804688,\n",
       "  0.7731200004053116,\n",
       "  0.7813066676870982,\n",
       "  0.7844266673008601,\n",
       "  0.7884000005499522,\n",
       "  0.7918933342885971,\n",
       "  0.79386666812102]}"
      ]
     },
     "execution_count": 86,
     "metadata": {},
     "output_type": "execute_result"
    }
   ],
   "source": []
  },
  {
   "cell_type": "code",
   "execution_count": null,
   "metadata": {},
   "outputs": [],
   "source": []
  },
  {
   "cell_type": "code",
   "execution_count": 36,
   "metadata": {},
   "outputs": [
    {
     "name": "stdout",
     "output_type": "stream",
     "text": [
      "_________________________________________________________________\n",
      "Layer (type)                 Output Shape              Param #   \n",
      "=================================================================\n",
      "embedding_5 (Embedding)      (None, 500, 32)           32000     \n",
      "_________________________________________________________________\n",
      "conv1d_3 (Conv1D)            (None, 496, 32)           5152      \n",
      "_________________________________________________________________\n",
      "max_pooling1d_2 (MaxPooling1 (None, 99, 32)            0         \n",
      "_________________________________________________________________\n",
      "conv1d_4 (Conv1D)            (None, 93, 32)            7200      \n",
      "_________________________________________________________________\n",
      "gru_1 (GRU)                  (None, 8)                 984       \n",
      "_________________________________________________________________\n",
      "dense_6 (Dense)              (None, 3)                 27        \n",
      "=================================================================\n",
      "Total params: 45,363\n",
      "Trainable params: 45,363\n",
      "Non-trainable params: 0\n",
      "_________________________________________________________________\n"
     ]
    }
   ],
   "source": [
    "m6 = Sequential()\n",
    "m6.add(Embedding(1000, 32, input_length = 500))\n",
    "m6.add(Conv1D(32, 5, activation = 'relu'))\n",
    "m6.add(MaxPooling1D(5))\n",
    "m6.add(Conv1D(32, 7, activation = 'relu'))\n",
    "m6.add(GRU(8, dropout = 0.1, recurrent_dropout = 0.5))\n",
    "m6.add(Dense(3, activation = 'softmax'))\n",
    "m6.compile(optimizer = 'rmsprop', loss = 'categorical_crossentropy', metrics = ['acc'])\n",
    "m6.summary()"
   ]
  },
  {
   "cell_type": "code",
   "execution_count": 38,
   "metadata": {},
   "outputs": [
    {
     "name": "stdout",
     "output_type": "stream",
     "text": [
      "Train on 7500 samples, validate on 2500 samples\n",
      "Epoch 1/10\n",
      "7500/7500 [==============================] - 15s 2ms/step - loss: 0.8248 - acc: 0.6625 - val_loss: 0.7396 - val_acc: 0.6976\n",
      "Epoch 2/10\n",
      "7500/7500 [==============================] - 14s 2ms/step - loss: 0.6816 - acc: 0.7364 - val_loss: 0.7100 - val_acc: 0.7168\n",
      "Epoch 3/10\n",
      "7500/7500 [==============================] - 13s 2ms/step - loss: 0.6307 - acc: 0.7616 - val_loss: 0.6871 - val_acc: 0.7244\n",
      "Epoch 4/10\n",
      "7500/7500 [==============================] - 14s 2ms/step - loss: 0.5957 - acc: 0.7803 - val_loss: 0.6902 - val_acc: 0.7264\n",
      "Epoch 5/10\n",
      "7500/7500 [==============================] - 14s 2ms/step - loss: 0.5577 - acc: 0.7936 - val_loss: 0.7760 - val_acc: 0.7108\n",
      "Epoch 6/10\n",
      "7500/7500 [==============================] - 14s 2ms/step - loss: 0.5087 - acc: 0.8171 - val_loss: 0.7078 - val_acc: 0.7256\n",
      "Epoch 7/10\n",
      "7500/7500 [==============================] - 14s 2ms/step - loss: 0.4453 - acc: 0.8407 - val_loss: 0.7851 - val_acc: 0.7292\n",
      "Epoch 8/10\n",
      "7500/7500 [==============================] - 14s 2ms/step - loss: 0.3757 - acc: 0.8628 - val_loss: 0.8903 - val_acc: 0.7268\n",
      "Epoch 9/10\n",
      "7500/7500 [==============================] - 14s 2ms/step - loss: 0.3116 - acc: 0.8816 - val_loss: 0.9331 - val_acc: 0.7172\n",
      "Epoch 10/10\n",
      "7500/7500 [==============================] - 14s 2ms/step - loss: 0.2509 - acc: 0.9069 - val_loss: 1.0299 - val_acc: 0.6892\n"
     ]
    },
    {
     "data": {
      "image/png": "[encoded data removed]",
      "text/plain": [
       "<Figure size 1152x504 with 2 Axes>"
      ]
     },
     "metadata": {
      "needs_background": "light"
     },
     "output_type": "display_data"
    }
   ],
   "source": [
    "h6 = m6.fit(x_train, one_hot_labels, epochs = 10, batch_size = 32, verbose = 1, validation_split = 0.25)\n",
    "plot_history(h6)"
   ]
  },
  {
   "cell_type": "code",
   "execution_count": null,
   "metadata": {},
   "outputs": [],
   "source": []
  }
 ],
 "metadata": {
  "kernelspec": {
   "display_name": "Python 3",
   "language": "python",
   "name": "python3"
  },
  "language_info": {
   "codemirror_mode": {
    "name": "ipython",
    "version": 3
   },
   "file_extension": ".py",
   "mimetype": "text/x-python",
   "name": "python",
   "nbconvert_exporter": "python",
   "pygments_lexer": "ipython3",
   "version": "3.6.7"
  }
 },
 "nbformat": 4,
 "nbformat_minor": 2
}
